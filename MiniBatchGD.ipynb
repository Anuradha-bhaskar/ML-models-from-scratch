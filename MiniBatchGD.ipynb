{
 "cells": [
  {
   "cell_type": "markdown",
   "id": "c30b5e06",
   "metadata": {},
   "source": [
    "### Mini Batch Gradient Descent Implemetation"
   ]
  },
  {
   "cell_type": "code",
   "execution_count": null,
   "id": "c76b0483",
   "metadata": {},
   "outputs": [],
   "source": [
    "from sklearn.datasets import load_diabetes\n",
    "import numpy as np\n",
    "from sklearn.metrics import r2_score\n",
    "from sklearn.model_selection import train_test_split\n",
    "import random"
   ]
  },
  {
   "cell_type": "code",
   "execution_count": 3,
   "id": "7c6ffbd0",
   "metadata": {},
   "outputs": [],
   "source": [
    "class MBGDRegressor:\n",
    "    \"\"\"\n",
    "    A simple implementation of Batch Gradient Descent for linear regression.\n",
    "    This class fits a linear model to the data using gradient descent.\n",
    "    \"\"\"\n",
    "\n",
    "    def __init__(self, batch_size, learning_rate=0.01, n_iterations=1000):\n",
    "        self.coef_ = None\n",
    "        self.intercept_ = None\n",
    "        self.learning_rate = learning_rate\n",
    "        self.n_iterations = n_iterations\n",
    "        self.batch_size = batch_size\n",
    "\n",
    "\n",
    "    def fit(self, X, y):\n",
    "        \"\"\"\n",
    "        Fit the model to the training data using batch gradient descent.\n",
    "        Parameters:\n",
    "        X : array-like, shape (n_samples, n_features)\n",
    "            Training data.\n",
    "        y : array-like, shape (n_samples,)\n",
    "            Target values.\n",
    "        \"\"\"\n",
    "        n_samples, n_features = X.shape\n",
    "        self.coef_ = np.ones(n_features)\n",
    "        self.intercept_ = 0\n",
    "\n",
    "        for _ in range(self.n_iterations):\n",
    "            for i in range(n_samples):\n",
    "                for j in range(int(n_samples / self.batch_size)):\n",
    "\n",
    "                    idx = random.sample(range(n_samples), self.batch_size)       # Randomly select a batch of indices\n",
    "                    \n",
    "                    # Calculate predictions for the current batch\n",
    "                    y_pred = np.dot(X[idx], self.coef_) + self.intercept_\n",
    "\n",
    "                    # Calculate gradients\n",
    "                    intercept_der = -2 * np.mean(y[idx] - y_pred)      \n",
    "                    coef_der = -2 * np.dot((y[idx] - y_pred), X[idx]) \n",
    "\n",
    "                    # Update coefficients and intercept\n",
    "                    self.coef_ -= self.learning_rate * coef_der\n",
    "                    self.intercept_ -= self.learning_rate * intercept_der\n",
    "\n",
    "        print(f\"Final coefficients: {self.coef_}, Final intercept: {self.intercept_}\")\n",
    "\n",
    "\n",
    "        print(f\"Final coefficients: {self.coef_}, Final intercept: {self.intercept_}\")\n",
    "\n",
    "    \n",
    "    def predict(self, X):\n",
    "        \"\"\"\n",
    "        Predict using the linear model.\n",
    "        Parameters:\n",
    "        X : array-like, shape (n_samples, n_features)\n",
    "            Samples to predict.\n",
    "        Returns:\n",
    "        y_pred : array-like, shape (n_samples,)\n",
    "            Predicted values.\n",
    "        \"\"\"\n",
    "        return np.dot(X, self.coef_) + self.intercept_\n",
    "\n"
   ]
  },
  {
   "cell_type": "code",
   "execution_count": 4,
   "id": "1886ee54",
   "metadata": {},
   "outputs": [],
   "source": [
    "X, y = load_diabetes(return_X_y=True)\n",
    "X_train, X_test, y_train, y_test = train_test_split(X, y, test_size=0.2, random_state=42)"
   ]
  },
  {
   "cell_type": "code",
   "execution_count": 6,
   "id": "627ed722",
   "metadata": {},
   "outputs": [
    {
     "name": "stdout",
     "output_type": "stream",
     "text": [
      "Final coefficients: [  32.94467392 -246.06986607  546.22578893  342.1034624  -871.28029234\n",
      "  473.91527718  133.24967979  272.75179198  715.3546288    45.32929867], Final intercept: 150.4164696324381\n",
      "Final coefficients: [  32.94467392 -246.06986607  546.22578893  342.1034624  -871.28029234\n",
      "  473.91527718  133.24967979  272.75179198  715.3546288    45.32929867], Final intercept: 150.4164696324381\n",
      "MBGD R^2 score: 0.4525876411804518\n"
     ]
    }
   ],
   "source": [
    "mbgd_regressor = MBGDRegressor(batch_size=35, learning_rate=0.01, n_iterations=50)\n",
    "mbgd_regressor.fit(X_train, y_train)\n",
    "y_pred = mbgd_regressor.predict(X_test)\n",
    "print(f\"MBGD R^2 score: {r2_score(y_test, y_pred)}\")\n"
   ]
  },
  {
   "cell_type": "markdown",
   "id": "72b0683b",
   "metadata": {},
   "source": [
    "### Using SGD Regressor"
   ]
  },
  {
   "cell_type": "code",
   "execution_count": 15,
   "id": "56525b0c",
   "metadata": {},
   "outputs": [],
   "source": [
    "from sklearn.linear_model import SGDRegressor\n",
    "sgd_sklearn = SGDRegressor(learning_rate='constant', eta0=0.2)"
   ]
  },
  {
   "cell_type": "code",
   "execution_count": null,
   "id": "cd694ce1",
   "metadata": {},
   "outputs": [],
   "source": [
    "batch_size = 35\n",
    "\n",
    "for i in range(100):    # 100 epochs\n",
    "    idx = random.sample(range(X_train.shape[0]), batch_size)\n",
    "    sgd_sklearn.partial_fit(X_train[idx], y_train[idx])"
   ]
  },
  {
   "cell_type": "code",
   "execution_count": 17,
   "id": "b9094f29",
   "metadata": {},
   "outputs": [
    {
     "data": {
      "text/plain": [
       "array([  44.231134  , -192.76192299,  433.67921763,  312.29741994,\n",
       "        -33.30442968,  -94.33287952, -204.06345548,  166.44285388,\n",
       "        370.11858738,  126.59935367])"
      ]
     },
     "execution_count": 17,
     "metadata": {},
     "output_type": "execute_result"
    }
   ],
   "source": [
    "sgd_sklearn.coef_"
   ]
  },
  {
   "cell_type": "code",
   "execution_count": 18,
   "id": "42b31481",
   "metadata": {},
   "outputs": [
    {
     "name": "stdout",
     "output_type": "stream",
     "text": [
      "SGD R^2 score: 0.428995436901749\n"
     ]
    }
   ],
   "source": [
    "y_pred_sklearn = sgd_sklearn.predict(X_test)\n",
    "print(f\"SGD R^2 score: {r2_score(y_test, y_pred_sklearn)}\")"
   ]
  }
 ],
 "metadata": {
  "kernelspec": {
   "display_name": "base",
   "language": "python",
   "name": "python3"
  },
  "language_info": {
   "codemirror_mode": {
    "name": "ipython",
    "version": 3
   },
   "file_extension": ".py",
   "mimetype": "text/x-python",
   "name": "python",
   "nbconvert_exporter": "python",
   "pygments_lexer": "ipython3",
   "version": "3.12.4"
  }
 },
 "nbformat": 4,
 "nbformat_minor": 5
}
