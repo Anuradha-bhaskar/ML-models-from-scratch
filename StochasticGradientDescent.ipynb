{
 "cells": [
  {
   "cell_type": "markdown",
   "id": "8d958bbb",
   "metadata": {},
   "source": [
    "### Stochastic Gradient Descent Implementation"
   ]
  },
  {
   "cell_type": "code",
   "execution_count": 3,
   "id": "00ddad25",
   "metadata": {},
   "outputs": [],
   "source": [
    "from sklearn.datasets import load_diabetes\n",
    "import numpy as np\n",
    "from sklearn.linear_model import LinearRegression\n",
    "from sklearn.metrics import r2_score\n",
    "from sklearn.model_selection import train_test_split"
   ]
  },
  {
   "cell_type": "code",
   "execution_count": null,
   "id": "83b5895b",
   "metadata": {},
   "outputs": [],
   "source": [
    "class SGDRegressor:\n",
    "    \"\"\"\n",
    "    A simple implementation of Batch Gradient Descent for linear regression.\n",
    "    This class fits a linear model to the data using gradient descent.\n",
    "    \"\"\"\n",
    "\n",
    "    def __init__(self, learning_rate=0.01, n_iterations=1000):\n",
    "        self.coef_ = None\n",
    "        self.intercept_ = None\n",
    "        self.learning_rate = learning_rate\n",
    "        self.n_iterations = n_iterations        #epochs\n",
    "\n",
    "\n",
    "    def fit(self, X, y):\n",
    "        \"\"\"\n",
    "        Fit the model to the training data using batch gradient descent.\n",
    "        Parameters:\n",
    "        X : array-like, shape (n_samples, n_features)\n",
    "            Training data.\n",
    "        y : array-like, shape (n_samples,)\n",
    "            Target values.\n",
    "        \"\"\"\n",
    "        n_samples, n_features = X.shape\n",
    "        self.coef_ = np.ones(n_features)\n",
    "        self.intercept_ = 0\n",
    "\n",
    "        for _ in range(self.n_iterations):\n",
    "            for i in range(n_samples):\n",
    "                idx = np.random.randint(0, n_samples)       # Randomly select an index for stochastic gradient descent\n",
    "                y_pred = np.dot(X[idx], self.coef_) + self.intercept_       \n",
    "\n",
    "                # Calculate gradients\n",
    "                intercept_der = -2 * (y[idx] - y_pred)      \n",
    "                coef_der = -2 * (X[idx] * (y[idx] - y_pred))\n",
    "\n",
    "                # Update coefficients and intercept\n",
    "                self.coef_ -= self.learning_rate * coef_der\n",
    "                self.intercept_ -= self.learning_rate * intercept_der\n",
    "\n",
    "        print(f\"Final coefficients: {self.coef_}, Final intercept: {self.intercept_}\")\n",
    "\n",
    "    \n",
    "    def predict(self, X):\n",
    "        \"\"\"\n",
    "        Predict using the linear model.\n",
    "        Parameters:\n",
    "        X : array-like, shape (n_samples, n_features)\n",
    "            Samples to predict.\n",
    "        Returns:\n",
    "        y_pred : array-like, shape (n_samples,)\n",
    "            Predicted values.\n",
    "        \"\"\"\n",
    "        return np.dot(X, self.coef_) + self.intercept_\n",
    "\n"
   ]
  },
  {
   "cell_type": "code",
   "execution_count": 11,
   "id": "74281795",
   "metadata": {},
   "outputs": [],
   "source": [
    "X, y = load_diabetes(return_X_y=True)\n",
    "X_train, X_test, y_train, y_test = train_test_split(X, y, test_size=0.2, random_state=42)"
   ]
  },
  {
   "cell_type": "code",
   "execution_count": 12,
   "id": "a65bd56a",
   "metadata": {},
   "outputs": [],
   "source": [
    "sgd_regressor = SGDRegressor(learning_rate=0.01, n_iterations=50)"
   ]
  },
  {
   "cell_type": "code",
   "execution_count": 13,
   "id": "d2b2af0c",
   "metadata": {},
   "outputs": [
    {
     "name": "stdout",
     "output_type": "stream",
     "text": [
      "Final coefficients: [  59.03857827 -102.31128273  364.46680422  246.8899181    -1.45116488\n",
      "  -37.32335417 -186.40073488  153.95699727  283.87864777  138.51772895], Final intercept: 149.6077800754558\n"
     ]
    }
   ],
   "source": [
    "sgd_regressor.fit(X_train, y_train)"
   ]
  },
  {
   "cell_type": "code",
   "execution_count": 14,
   "id": "92d92bfb",
   "metadata": {},
   "outputs": [
    {
     "name": "stdout",
     "output_type": "stream",
     "text": [
      "R^2 score: 0.44578787705206313\n"
     ]
    }
   ],
   "source": [
    "y_pred = sgd_regressor.predict(X_test)\n",
    "print(f\"R^2 score: {r2_score(y_test, y_pred)}\")"
   ]
  },
  {
   "cell_type": "markdown",
   "id": "2bffef3c",
   "metadata": {},
   "source": [
    "### Comparison between the custom class and scikit-learn’s built-in model."
   ]
  },
  {
   "cell_type": "code",
   "execution_count": 15,
   "id": "048278f3",
   "metadata": {},
   "outputs": [
    {
     "name": "stdout",
     "output_type": "stream",
     "text": [
      "Sklearn R^2 score: 0.45260276297191926\n",
      "Sklearn coefficients: [  37.90402135 -241.96436231  542.42875852  347.70384391 -931.48884588\n",
      "  518.06227698  163.41998299  275.31790158  736.1988589    48.67065743], Sklearn intercept: 151.34560453985995\n"
     ]
    }
   ],
   "source": [
    "from sklearn.linear_model import LinearRegression\n",
    "sk_model = LinearRegression()\n",
    "sk_model.fit(X_train, y_train)\n",
    "sk_y_pred = sk_model.predict(X_test)\n",
    "print(f\"Sklearn R^2 score: {r2_score(y_test, sk_y_pred)}\")\n",
    "print(f\"Sklearn coefficients: {sk_model.coef_}, Sklearn intercept: {sk_model.intercept_}\")"
   ]
  },
  {
   "cell_type": "code",
   "execution_count": 18,
   "id": "dc30a6f8",
   "metadata": {},
   "outputs": [
    {
     "name": "stdout",
     "output_type": "stream",
     "text": [
      "Sklearn SGD R^2 score: 0.44647465175599643\n"
     ]
    }
   ],
   "source": [
    "from sklearn.linear_model import SGDRegressor\n",
    "\n",
    "sgd_sklearn = SGDRegressor(learning_rate='constant', eta0=0.01, max_iter=100)\n",
    "sgd_sklearn.fit(X_train, y_train)\n",
    "sgd_sklearn_y_pred = sgd_sklearn.predict(X_test)\n",
    "print(f\"Sklearn SGD R^2 score: {r2_score(y_test, sgd_sklearn_y_pred)}\")\n"
   ]
  },
  {
   "cell_type": "code",
   "execution_count": null,
   "id": "703f48ef",
   "metadata": {},
   "outputs": [],
   "source": []
  }
 ],
 "metadata": {
  "kernelspec": {
   "display_name": "base",
   "language": "python",
   "name": "python3"
  },
  "language_info": {
   "codemirror_mode": {
    "name": "ipython",
    "version": 3
   },
   "file_extension": ".py",
   "mimetype": "text/x-python",
   "name": "python",
   "nbconvert_exporter": "python",
   "pygments_lexer": "ipython3",
   "version": "3.12.4"
  }
 },
 "nbformat": 4,
 "nbformat_minor": 5
}
