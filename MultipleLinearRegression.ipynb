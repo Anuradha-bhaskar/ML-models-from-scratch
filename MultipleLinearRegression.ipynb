{
 "cells": [
  {
   "cell_type": "markdown",
   "id": "28f70563",
   "metadata": {},
   "source": [
    "### Multiple Linear Regression from Scratch\n"
   ]
  },
  {
   "cell_type": "code",
   "execution_count": null,
   "id": "80fc449f",
   "metadata": {},
   "outputs": [],
   "source": [
    "import numpy as np\n",
    "\n",
    "\n",
    "class MultipleLinearRegression:\n",
    "    def __init__(self):\n",
    "        self.coef_ = None\n",
    "        self.intercept_ = None\n",
    "\n",
    "    def fit(self, X, y):\n",
    "        \"\"\"\n",
    "        Fit the model using the Normal Equation method.\n",
    "        Parameters:\n",
    "        X : array-like, shape (n_samples, n_features)\n",
    "            Training data.\n",
    "        y : array-like, shape (n_samples,)\n",
    "            Target values.\n",
    "        \"\"\"\n",
    "        \n",
    "        X = np.insert(X, 0, 1, axis=1)              # Add the intercept term\n",
    "        betas = np.linalg.inv(X.T @ X) @ X.T @ y    # Normal Equation\n",
    "        self.intercept_ = betas[0]                  # First coefficient is the intercept\n",
    "        self.coef_ = betas[1:]                      \n",
    "\n",
    "    def predict(self, X):\n",
    "        \"\"\"\n",
    "        Predict using the linear model.\n",
    "        Parameters:\n",
    "        X : array-like, shape (n_samples, n_features)\n",
    "            Samples.\n",
    "        Returns:\n",
    "        y_pred : array-like, shape (n_samples,)\n",
    "            Predicted values.\n",
    "        \"\"\"\n",
    "\n",
    "        return X @ self.coef_ + self.intercept_ \n",
    "        "
   ]
  },
  {
   "cell_type": "code",
   "execution_count": 18,
   "id": "782d8a98",
   "metadata": {},
   "outputs": [],
   "source": [
    "from sklearn.datasets import load_diabetes\n",
    "import numpy as np"
   ]
  },
  {
   "cell_type": "code",
   "execution_count": 2,
   "id": "5edeaa17",
   "metadata": {},
   "outputs": [],
   "source": [
    "X, y = load_diabetes(return_X_y=True)"
   ]
  },
  {
   "cell_type": "code",
   "execution_count": 11,
   "id": "5cae2882",
   "metadata": {},
   "outputs": [],
   "source": [
    "from sklearn.model_selection import train_test_split\n",
    "\n",
    "X_train, X_test, y_train, y_test = train_test_split(X, y, test_size=0.2, random_state=42)\n",
    "model = MultipleLinearRegression()\n",
    "model.fit(X_train, y_train)\n",
    "y_pred = model.predict(X_test)"
   ]
  },
  {
   "cell_type": "code",
   "execution_count": 13,
   "id": "02a654d2",
   "metadata": {},
   "outputs": [
    {
     "data": {
      "text/plain": [
       "(array([  37.90402135, -241.96436231,  542.42875852,  347.70384391,\n",
       "        -931.48884588,  518.06227698,  163.41998299,  275.31790158,\n",
       "         736.1988589 ,   48.67065743]),\n",
       " 151.34560453986)"
      ]
     },
     "execution_count": 13,
     "metadata": {},
     "output_type": "execute_result"
    }
   ],
   "source": [
    "model.coef_, model.intercept_"
   ]
  },
  {
   "cell_type": "code",
   "execution_count": 14,
   "id": "b5dd489c",
   "metadata": {},
   "outputs": [
    {
     "name": "stdout",
     "output_type": "stream",
     "text": [
      "Mean Squared Error: 2900.1936284934795\n",
      "R^2 Score: 0.4526027629719198\n"
     ]
    }
   ],
   "source": [
    "from sklearn.metrics import mean_squared_error, r2_score\n",
    "mse = mean_squared_error(y_test, y_pred)\n",
    "r2 = r2_score(y_test, y_pred)\n",
    "print(f\"Mean Squared Error: {mse}\")     \n",
    "print(f\"R^2 Score: {r2}\")"
   ]
  },
  {
   "cell_type": "markdown",
   "id": "45b14059",
   "metadata": {},
   "source": [
    "### Comparison between the custom `MultipleLinearRegression` class and scikit-learn’s built-in `LinearRegression` model."
   ]
  },
  {
   "cell_type": "code",
   "execution_count": 15,
   "id": "5ffdbd26",
   "metadata": {},
   "outputs": [],
   "source": [
    "from sklearn.linear_model import LinearRegression\n",
    "\n",
    "sk_model = LinearRegression()\n",
    "sk_model.fit(X_train, y_train)\n",
    "\n",
    "sk_y_pred = sk_model.predict(X_test)"
   ]
  },
  {
   "cell_type": "code",
   "execution_count": 16,
   "id": "d8651c01",
   "metadata": {},
   "outputs": [
    {
     "data": {
      "text/plain": [
       "(array([  37.90402135, -241.96436231,  542.42875852,  347.70384391,\n",
       "        -931.48884588,  518.06227698,  163.41998299,  275.31790158,\n",
       "         736.1988589 ,   48.67065743]),\n",
       " 151.34560453985995)"
      ]
     },
     "execution_count": 16,
     "metadata": {},
     "output_type": "execute_result"
    }
   ],
   "source": [
    "sk_model.coef_, sk_model.intercept_"
   ]
  },
  {
   "cell_type": "code",
   "execution_count": 17,
   "id": "50385955",
   "metadata": {},
   "outputs": [
    {
     "name": "stdout",
     "output_type": "stream",
     "text": [
      "Scikit-learn Mean Squared Error: 2900.1936284934823\n",
      "Scikit-learn R^2 Score: 0.45260276297191926\n"
     ]
    }
   ],
   "source": [
    "sk_mse = mean_squared_error(y_test, sk_y_pred)\n",
    "sk_r2 = r2_score(y_test, sk_y_pred)\n",
    "print(f\"Scikit-learn Mean Squared Error: {sk_mse}\")\n",
    "print(f\"Scikit-learn R^2 Score: {sk_r2}\")"
   ]
  }
 ],
 "metadata": {
  "kernelspec": {
   "display_name": "base",
   "language": "python",
   "name": "python3"
  },
  "language_info": {
   "codemirror_mode": {
    "name": "ipython",
    "version": 3
   },
   "file_extension": ".py",
   "mimetype": "text/x-python",
   "name": "python",
   "nbconvert_exporter": "python",
   "pygments_lexer": "ipython3",
   "version": "3.12.4"
  }
 },
 "nbformat": 4,
 "nbformat_minor": 5
}
