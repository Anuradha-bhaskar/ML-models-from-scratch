{
 "cells": [
  {
   "cell_type": "markdown",
   "id": "8661a776",
   "metadata": {},
   "source": [
    "### Batch Gradient Descent for n dimensions"
   ]
  },
  {
   "cell_type": "code",
   "execution_count": 1,
   "id": "c2ce4740",
   "metadata": {},
   "outputs": [],
   "source": [
    "from sklearn.datasets import load_diabetes\n",
    "import numpy as np\n",
    "from sklearn.linear_model import LinearRegression\n",
    "from sklearn.metrics import r2_score\n",
    "from sklearn.model_selection import train_test_split"
   ]
  },
  {
   "cell_type": "code",
   "execution_count": null,
   "id": "446297fb",
   "metadata": {},
   "outputs": [],
   "source": [
    "class BGDRegressor:\n",
    "    \"\"\"\n",
    "    A simple implementation of Batch Gradient Descent for linear regression.\n",
    "    This class fits a linear model to the data using gradient descent.\n",
    "    \"\"\"\n",
    "\n",
    "    def __init__(self, learning_rate=0.01, n_iterations=1000):\n",
    "        self.coef_ = None\n",
    "        self.intercept_ = None\n",
    "        self.learning_rate = learning_rate\n",
    "        self.n_iterations = n_iterations\n",
    "\n",
    "\n",
    "    def fit(self, X, y):\n",
    "        \"\"\"\n",
    "        Fit the model to the training data using batch gradient descent.\n",
    "        Parameters:\n",
    "        X : array-like, shape (n_samples, n_features)\n",
    "            Training data.\n",
    "        y : array-like, shape (n_samples,)\n",
    "            Target values.\n",
    "        \"\"\"\n",
    "        n_samples, n_features = X.shape\n",
    "        self.coef_ = np.ones(n_features)\n",
    "        self.intercept_ = 0\n",
    "\n",
    "        for _ in range(self.n_iterations):\n",
    "            # Calculate predictions\n",
    "            y_pred = np.dot(X, self.coef_) + self.intercept_\n",
    "\n",
    "            # Calculate gradients\n",
    "            intercept_der = -2 * np.mean(y - y_pred)\n",
    "            coef_der = -2 * (np.dot(X.T, (y - y_pred))) / n_samples\n",
    "            \n",
    "            # Update coefficients and intercept\n",
    "            self.coef_ -= self.learning_rate * coef_der\n",
    "            self.intercept_ -= self.learning_rate * intercept_der\n",
    "\n",
    "        print(f\"Final coefficients: {self.coef_}, Final intercept: {self.intercept_}\")\n",
    "\n",
    "    \n",
    "    def predict(self, X):\n",
    "        \"\"\"\n",
    "        Predict using the linear model.\n",
    "        Parameters:\n",
    "        X : array-like, shape (n_samples, n_features)\n",
    "            Samples to predict.\n",
    "        Returns:\n",
    "        y_pred : array-like, shape (n_samples,)\n",
    "            Predicted values.\n",
    "        \"\"\"\n",
    "        return np.dot(X, self.coef_) + self.intercept_\n",
    "\n"
   ]
  },
  {
   "cell_type": "code",
   "execution_count": 5,
   "id": "20c9e728",
   "metadata": {},
   "outputs": [],
   "source": [
    "X, y = load_diabetes(return_X_y=True)\n",
    "X_train, X_test, y_train, y_test = train_test_split(X, y, test_size=0.2, random_state=42)"
   ]
  },
  {
   "cell_type": "code",
   "execution_count": 66,
   "id": "a41ab199",
   "metadata": {},
   "outputs": [],
   "source": [
    "bgd_regressor = BGDRegressor(learning_rate=0.9, n_iterations=1000)"
   ]
  },
  {
   "cell_type": "code",
   "execution_count": 67,
   "id": "2cda5812",
   "metadata": {},
   "outputs": [
    {
     "name": "stdout",
     "output_type": "stream",
     "text": [
      "Final coefficients: [  39.63646025 -234.47845875  547.25204555  339.31594463  -94.51673532\n",
      " -128.23344008 -216.73409947  148.0559217   407.24986763   76.7306578 ], Final intercept: 151.30620154516603\n"
     ]
    }
   ],
   "source": [
    "bgd_regressor.fit(X_train, y_train)"
   ]
  },
  {
   "cell_type": "code",
   "execution_count": 68,
   "id": "fa405d1b",
   "metadata": {},
   "outputs": [
    {
     "name": "stdout",
     "output_type": "stream",
     "text": [
      "R^2 score: 0.45665983079969374\n"
     ]
    }
   ],
   "source": [
    "y_pred = bgd_regressor.predict(X_test)\n",
    "print(f\"R^2 score: {r2_score(y_test, y_pred)}\")"
   ]
  },
  {
   "cell_type": "markdown",
   "id": "5237fe08",
   "metadata": {},
   "source": [
    "### Comparison between the custom class and scikit-learn’s built-in model."
   ]
  },
  {
   "cell_type": "code",
   "execution_count": 19,
   "id": "d477b220",
   "metadata": {},
   "outputs": [
    {
     "name": "stdout",
     "output_type": "stream",
     "text": [
      "Sklearn R^2 score: 0.45260276297191926\n",
      "Sklearn coefficients: [  37.90402135 -241.96436231  542.42875852  347.70384391 -931.48884588\n",
      "  518.06227698  163.41998299  275.31790158  736.1988589    48.67065743], Sklearn intercept: 151.34560453985995\n"
     ]
    }
   ],
   "source": [
    "from sklearn.linear_model import LinearRegression\n",
    "sk_model = LinearRegression()\n",
    "sk_model.fit(X_train, y_train)\n",
    "sk_y_pred = sk_model.predict(X_test)\n",
    "print(f\"Sklearn R^2 score: {r2_score(y_test, sk_y_pred)}\")\n",
    "print(f\"Sklearn coefficients: {sk_model.coef_}, Sklearn intercept: {sk_model.intercept_}\")"
   ]
  },
  {
   "cell_type": "code",
   "execution_count": null,
   "id": "0ac61952",
   "metadata": {},
   "outputs": [],
   "source": []
  }
 ],
 "metadata": {
  "kernelspec": {
   "display_name": "base",
   "language": "python",
   "name": "python3"
  },
  "language_info": {
   "codemirror_mode": {
    "name": "ipython",
    "version": 3
   },
   "file_extension": ".py",
   "mimetype": "text/x-python",
   "name": "python",
   "nbconvert_exporter": "python",
   "pygments_lexer": "ipython3",
   "version": "3.12.4"
  }
 },
 "nbformat": 4,
 "nbformat_minor": 5
}
